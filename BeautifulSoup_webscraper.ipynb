{
 "cells": [
  {
   "cell_type": "code",
   "execution_count": 1,
   "id": "d124c5a0",
   "metadata": {},
   "outputs": [],
   "source": [
    "from bs4 import BeautifulSoup\n",
    "import requests\n",
    "import pandas as pd\n",
    "import re\n",
    "import math\n",
    "\n",
    "def get_soup(url, headers):\n",
    "    page = requests.get(url, headers=headers)\n",
    "    soup = BeautifulSoup(page.text, 'html.parser')\n",
    "    return soup\n",
    "\n",
    "\n",
    "def get_type_price(soup):\n",
    "    type_price_details = []\n",
    "    items_list = soup.find_all('article', 'hm-product-item')\n",
    "    for i in items_list:\n",
    "        type_price = {\n",
    "            'url': 'https://www2.hm.com' + i.find('a', class_='item-link').get('href'),\n",
    "            'id': i.get('data-articlecode'),\n",
    "            'type':i.find('a', class_='link').get_text(),\n",
    "            'price': i.find('span', class_='price regular').get_text().replace('$ ', '')\n",
    "\n",
    "            }\n",
    "        type_price_details.append(type_price)\n",
    "    return type_price_details\n",
    "\n",
    "def get_color(soup):\n",
    "    color_details = []\n",
    "    items = soup.find( 'ul', class_='inputlist clearfix')\n",
    "    items_list = items.find_all('li', 'list-item')\n",
    "    \n",
    "    for i in items_list:\n",
    "        color = {\n",
    "            'color_url': 'https://www2.hm.com' + i.find('a', role='radio').get('href'),\n",
    "            'id': i.find('a', role='radio').get('data-articlecode'),\n",
    "            'color': i.find('a', role='radio').get( 'data-color' ) \n",
    "            }\n",
    "        color_details.append(color)\n",
    "    return color_details\n",
    "\n",
    "def get_composition(soup):\n",
    "    composition = {}\n",
    "    items_list = soup.find( 'div', class_='details parbase' )\n",
    "    item = items_list.find_all('script')[1]\n",
    "    for i in item:\n",
    "        try:\n",
    "            composition = {\n",
    "            'composition': re.search(\"Shell: (.+),\", item.get_text()).group(1)\n",
    "            }\n",
    "        except:\n",
    "             composition = {\n",
    "            'composition': re.search(\"'Composition'(.+)Art. No.\", item.get_text().replace('\\n', '').replace('\\t', '').replace('\\r', '').replace(\"'\\'\", '')).group(1),       \n",
    "            }                \n",
    "    return composition\n",
    "\n",
    "def clean_column(column, regex):\n",
    "    new_col = []\n",
    "    for line in column:\n",
    "        try:\n",
    "            new_col.append(re.search(regex, line).group(1))\n",
    "        except:\n",
    "            new_col.append(line)\n",
    "    return new_col\n"
   ]
  },
  {
   "cell_type": "code",
   "execution_count": 2,
   "id": "3e3968f0",
   "metadata": {},
   "outputs": [],
   "source": [
    "url = 'https://www2.hm.com/en_us/men/products/jeans.html'\n",
    "headers = {'User-Agent': 'Mozilla/5.0 (Windows NT 10.0; Win64; x64) AppleWebKit/537.36 (KHTML, like Gecko) Chrome/79.0.3945.88 Safari/537.36'}\n",
    "page = requests.get( url, headers=headers )\n",
    "soup = BeautifulSoup(page.text, 'html.parser')"
   ]
  },
  {
   "cell_type": "code",
   "execution_count": 3,
   "id": "586d849a",
   "metadata": {},
   "outputs": [],
   "source": [
    "total_item = soup.find_all( 'h2', class_='load-more-heading' )[0].get('data-total')\n",
    "number_of_pages = math.ceil( int( total_item ) / 36 )\n",
    "url = url + '?page-size=' + str( int( number_of_pages*36 ) )"
   ]
  },
  {
   "cell_type": "code",
   "execution_count": 4,
   "id": "1a8a6081",
   "metadata": {},
   "outputs": [],
   "source": [
    "soup = get_soup(url, headers)\n",
    "type_price_list = get_type_price(soup)\n",
    "\n",
    "df_type = pd.DataFrame(type_price_list)\n",
    "df_type.to_csv('products.csv', index=False)\n",
    "df_type = pd.read_csv('products.csv')\n",
    "\n",
    "for i in df_type['url']:\n",
    "    soup = get_soup(i, headers)\n",
    "    list_color = get_color(soup)\n",
    "\n",
    "df_color = pd.DataFrame(list_color)\n",
    "df_color.to_csv('color_details.csv', index=False)\n",
    "df_color = pd.read_csv('color_details.csv')\n",
    "df_color = df_color.drop_duplicates().reset_index(drop=True)\n",
    "\n",
    "list_composition = []\n",
    "\n",
    "for i in df_color['color_url']:\n",
    "    soup = get_soup(i, headers)\n",
    "    list_composition.append(get_composition(soup))\n",
    "\n",
    "df_composition = pd.DataFrame(list_composition)\n",
    "df_composition.to_csv('product_composition.csv', index=False)\n",
    "df_composition = pd.read_csv('product_composition.csv')\n",
    "\n",
    "regex = \"\\[\\'(.+)\\'\\]   },\"\n",
    "df_composition['composition'] = clean_column(df_composition['composition'], regex)"
   ]
  },
  {
   "cell_type": "code",
   "execution_count": 5,
   "id": "8577f97e",
   "metadata": {},
   "outputs": [],
   "source": [
    "color_comp = pd.concat([df_color, df_composition], axis=1)"
   ]
  },
  {
   "cell_type": "code",
   "execution_count": 6,
   "id": "6000676e",
   "metadata": {},
   "outputs": [],
   "source": [
    "product_details = pd.merge( color_comp, df_type, how='left', on='id' )"
   ]
  },
  {
   "cell_type": "code",
   "execution_count": 7,
   "id": "f492789d",
   "metadata": {},
   "outputs": [],
   "source": [
    "product_details['id'] = product_details['id'].astype('string')\n",
    "product_details['style_id'] = product_details['id'].apply( lambda x: x[:-3])\n",
    "product_details = product_details.drop(['color_url', 'url'], axis=1)"
   ]
  },
  {
   "cell_type": "code",
   "execution_count": 8,
   "id": "233f53d2",
   "metadata": {
    "scrolled": true
   },
   "outputs": [],
   "source": [
    "unique_products = product_details.loc[:, ['style_id', 'price', 'type']].dropna().drop_duplicates(subset='style_id').reset_index(drop=True)"
   ]
  },
  {
   "cell_type": "code",
   "execution_count": 9,
   "id": "0049dbf9",
   "metadata": {},
   "outputs": [],
   "source": [
    "df = pd.merge( product_details, unique_products, how='left', on='style_id' )\n",
    "df = df.drop(columns=['type_x', 'price_x', 'style_id'], axis=1)\n",
    "df.columns = ['id', 'color', 'composition', 'price', 'type']"
   ]
  },
  {
   "cell_type": "code",
   "execution_count": 10,
   "id": "d81f9eb6",
   "metadata": {},
   "outputs": [],
   "source": [
    "df.to_csv('df_products.csv', index=False)"
   ]
  }
 ],
 "metadata": {
  "kernelspec": {
   "display_name": "Python 3 (ipykernel)",
   "language": "python",
   "name": "python3"
  },
  "language_info": {
   "codemirror_mode": {
    "name": "ipython",
    "version": 3
   },
   "file_extension": ".py",
   "mimetype": "text/x-python",
   "name": "python",
   "nbconvert_exporter": "python",
   "pygments_lexer": "ipython3",
   "version": "3.9.7"
  }
 },
 "nbformat": 4,
 "nbformat_minor": 5
}
